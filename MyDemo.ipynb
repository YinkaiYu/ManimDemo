{
 "cells": [
  {
   "cell_type": "code",
   "execution_count": 1,
   "id": "wound-foundation",
   "metadata": {},
   "outputs": [],
   "source": [
    "from manim import *\n",
    "\n",
    "config.media_width = \"75%\"\n",
    "config.verbosity = \"WARNING\""
   ]
  },
  {
   "cell_type": "code",
   "execution_count": 24,
   "id": "b4a31b4b-9d71-4a0f-8be1-ff04f804542f",
   "metadata": {},
   "outputs": [
    {
     "data": {
      "text/plain": [
       "['C059',\n",
       " 'D050000L',\n",
       " 'DejaVu Sans',\n",
       " 'DejaVu Sans Mono',\n",
       " 'DejaVu Serif',\n",
       " 'Monospace',\n",
       " 'Nimbus Mono PS',\n",
       " 'Nimbus Roman',\n",
       " 'Nimbus Sans',\n",
       " 'Nimbus Sans Narrow',\n",
       " 'P052',\n",
       " 'Sans',\n",
       " 'Serif',\n",
       " 'Standard Symbols PS',\n",
       " 'System-ui',\n",
       " 'URW Bookman',\n",
       " 'URW Gothic',\n",
       " 'Z003']"
      ]
     },
     "execution_count": 24,
     "metadata": {},
     "output_type": "execute_result"
    }
   ],
   "source": [
    "import manimpango\n",
    "manimpango.list_fonts()"
   ]
  },
  {
   "cell_type": "code",
   "execution_count": 13,
   "id": "complicated-retirement",
   "metadata": {},
   "outputs": [
    {
     "data": {
      "text/html": [
       "<pre style=\"white-space:pre;overflow-x:auto;line-height:normal;font-family:Menlo,'DejaVu Sans Mono',consolas,'Courier New',monospace\">Manim Community <span style=\"color: #008000; text-decoration-color: #008000\">v0.18.1</span>\n",
       "\n",
       "</pre>\n"
      ],
      "text/plain": [
       "Manim Community \u001b[32mv0.\u001b[0m\u001b[32m18.1\u001b[0m\n",
       "\n"
      ]
     },
     "metadata": {},
     "output_type": "display_data"
    },
    {
     "name": "stderr",
     "output_type": "stream",
     "text": [
      "                                                                               \r"
     ]
    },
    {
     "data": {
      "text/html": [
       "<video src=\"media/jupyter/CircleToSquare@2025-01-02@17-09-47.mp4\" controls autoplay loop style=\"max-width: 75%;\"  >\n",
       "      Your browser does not support the <code>video</code> element.\n",
       "    </video>"
      ],
      "text/plain": [
       "<IPython.core.display.Video object>"
      ]
     },
     "metadata": {},
     "output_type": "display_data"
    }
   ],
   "source": [
    "%%manim -qm CircleToSquare\n",
    "\n",
    "class CircleToSquare(Scene):\n",
    "    def construct(self):\n",
    "        blue_circle = Circle(color=BLUE, fill_opacity=0.5)\n",
    "        green_square = Square(color=GREEN, fill_opacity=0.8)\n",
    "        self.play(Create(blue_circle))\n",
    "        self.wait()\n",
    "        \n",
    "        self.play(Transform(blue_circle, green_square))\n",
    "        self.wait()"
   ]
  },
  {
   "cell_type": "code",
   "execution_count": 18,
   "id": "d3343963-aee9-41ad-9e66-ea1ff7e7b0d5",
   "metadata": {
    "scrolled": true
   },
   "outputs": [
    {
     "data": {
      "text/html": [
       "<pre style=\"white-space:pre;overflow-x:auto;line-height:normal;font-family:Menlo,'DejaVu Sans Mono',consolas,'Courier New',monospace\">Manim Community <span style=\"color: #008000; text-decoration-color: #008000\">v0.18.1</span>\n",
       "\n",
       "</pre>\n"
      ],
      "text/plain": [
       "Manim Community \u001b[32mv0.\u001b[0m\u001b[32m18.1\u001b[0m\n",
       "\n"
      ]
     },
     "metadata": {},
     "output_type": "display_data"
    },
    {
     "name": "stderr",
     "output_type": "stream",
     "text": [
      "                                                                                                                                                       \r"
     ]
    },
    {
     "data": {
      "text/html": [
       "<video src=\"media/jupyter/ManimGPT@2025-01-02@17-20-42.mp4\" controls autoplay loop style=\"max-width: 75%;\"  >\n",
       "      Your browser does not support the <code>video</code> element.\n",
       "    </video>"
      ],
      "text/plain": [
       "<IPython.core.display.Video object>"
      ]
     },
     "metadata": {},
     "output_type": "display_data"
    }
   ],
   "source": [
    "%%manim -qm ManimGPT\n",
    "\n",
    "class ManimGPT(Scene):\n",
    "    def construct(self):\n",
    "        # 使用TexTemplateLibrary的ctex模板来支持中文\n",
    "        title = Tex('如何用英语读数学/物理公式', tex_template=TexTemplateLibrary.ctex, font_size=72, color=BLUE)\n",
    "        title.move_to(ORIGIN)  # 将标题放置在屏幕正中间\n",
    "        self.play(Write(title))  # 播放标题出现动画\n",
    "\n",
    "        # 等待一会，给观众一点时间阅读标题\n",
    "        self.wait(0.5)\n",
    "\n",
    "        # 引入柯西积分公式\n",
    "        formula = MathTex(r\"\\mathcal{C}(f(z)) = \\frac{1}{2\\pi i} \\oint_{\\gamma} \\frac{f(z)}{z^{n+1}}~dz\")\n",
    "        formula.scale(1.2)  # 调整公式大小\n",
    "        self.play(title.animate.next_to(formula, UP, buff=0.5)) \n",
    "        self.play(Write(formula))\n",
    "\n",
    "        # 等待一会，给观众一点时间查看公式\n",
    "        self.wait(2)\n",
    "\n",
    "        # 让公式慢慢消失，为下一部分做过渡\n",
    "        self.play(FadeOut(title), FadeOut(formula))\n",
    "\n",
    "        # 过渡到下一部分（可以为下一场景做准备）\n",
    "        self.wait(0.5)"
   ]
  },
  {
   "cell_type": "code",
   "execution_count": 32,
   "id": "463ee54d-b86c-485b-a362-c415af469d39",
   "metadata": {},
   "outputs": [
    {
     "data": {
      "text/html": [
       "<pre style=\"white-space:pre;overflow-x:auto;line-height:normal;font-family:Menlo,'DejaVu Sans Mono',consolas,'Courier New',monospace\">Manim Community <span style=\"color: #008000; text-decoration-color: #008000\">v0.18.1</span>\n",
       "\n",
       "</pre>\n"
      ],
      "text/plain": [
       "Manim Community \u001b[32mv0.\u001b[0m\u001b[32m18.1\u001b[0m\n",
       "\n"
      ]
     },
     "metadata": {},
     "output_type": "display_data"
    },
    {
     "name": "stderr",
     "output_type": "stream",
     "text": [
      "                                                                                            \r"
     ]
    },
    {
     "data": {
      "text/html": [
       "<video src=\"media/jupyter/TransformEquation@2025-01-02@17-54-46.mp4\" controls autoplay loop style=\"max-width: 75%;\"  >\n",
       "      Your browser does not support the <code>video</code> element.\n",
       "    </video>"
      ],
      "text/plain": [
       "<IPython.core.display.Video object>"
      ]
     },
     "metadata": {},
     "output_type": "display_data"
    }
   ],
   "source": [
    "%%manim -ql TransformEquation\n",
    "\n",
    "class TransformEquation(Scene):\n",
    "    def construct(self):\n",
    "        eq1 = MathTex(\"42 {{ a^2 }} + {{ b^2 }} = {{ c^2 }}\")\n",
    "        eq2 = MathTex(\"42 {{ a^2 }} = {{ c^2 }} - {{ b^2 }}\")\n",
    "        eq3 = MathTex(r\"a^2 = \\frac{c^2 - b^2}{42}\")\n",
    "        self.add(eq1)\n",
    "        self.wait()\n",
    "        self.play(TransformMatchingTex(eq1, eq2))\n",
    "        self.wait()\n",
    "        self.play(TransformMatchingShapes(eq2, eq3))\n",
    "        self.wait()"
   ]
  },
  {
   "cell_type": "code",
   "execution_count": 36,
   "id": "32c48a9d-5bee-4cd2-bc89-b3e9bab097ee",
   "metadata": {},
   "outputs": [
    {
     "data": {
      "text/html": [
       "<pre style=\"white-space:pre;overflow-x:auto;line-height:normal;font-family:Menlo,'DejaVu Sans Mono',consolas,'Courier New',monospace\">Manim Community <span style=\"color: #008000; text-decoration-color: #008000\">v0.18.1</span>\n",
       "\n",
       "</pre>\n"
      ],
      "text/plain": [
       "Manim Community \u001b[32mv0.\u001b[0m\u001b[32m18.1\u001b[0m\n",
       "\n"
      ]
     },
     "metadata": {},
     "output_type": "display_data"
    },
    {
     "name": "stderr",
     "output_type": "stream",
     "text": [
      "                                                                                                                                                                      \r"
     ]
    },
    {
     "data": {
      "text/html": [
       "<video src=\"media/jupyter/ManimGPT@2025-01-02@18-05-44.mp4\" controls autoplay loop style=\"max-width: 75%;\"  >\n",
       "      Your browser does not support the <code>video</code> element.\n",
       "    </video>"
      ],
      "text/plain": [
       "<IPython.core.display.Video object>"
      ]
     },
     "metadata": {},
     "output_type": "display_data"
    }
   ],
   "source": [
    "%%manim -ql ManimGPT\n",
    "\n",
    "class ManimGPT(Scene):\n",
    "    def construct(self):\n",
    "\n",
    "        ###########################\n",
    "        # 场景 1: 标题 - 展示公式 #\n",
    "        ###########################\n",
    "        \n",
    "        # 角色设定\n",
    "        title = Tex('数学公式用英语怎么读', tex_template=TexTemplateLibrary.ctex, font_size=72, color=BLUE) # 标题\n",
    "        formula = MathTex(r\"\\mathcal{C}(f(z)) = \\frac{1}{2\\pi i} \\oint_{\\gamma} {{ \\frac{f(z)}{z^{n+1}} }} ~dz\") # 柯西积分公式\n",
    "        fraction1 = MathTex(r\"{{ \\frac{f(z)}{z^{n+1}} }}\") # 其中的分式\n",
    "        formula.scale(1.2) \n",
    "        fraction1.scale(1.5)\n",
    "        \n",
    "        # 开始表演\n",
    "        self.play(Write(title))  # 标题出现\n",
    "        self.wait(0.5)\n",
    "        self.play(title.animate.next_to(formula, UP, buff=0.5)) # 标题让位\n",
    "        self.play(Write(formula)) # 公式登场\n",
    "        self.wait(2)\n",
    "        self.play(FadeOut(title), TransformMatchingTex(formula, fraction1)) # 标题退场，分式留下\n",
    "        self.wait(0.5)\n",
    "        \n",
    "        ###########################\n",
    "        # 场景 2: 拆解公式 - 分数 #\n",
    "        ###########################\n",
    "\n",
    "        # 角色设定\n",
    "        fraction2 = MathTex(r\"\\frac{a}{b}\") # 简化分式\n",
    "        fraction_text = Text(\"a over b\", font=\"DejaVu Sans\", font_size=48, color=BLUE) # 分式注释\n",
    "        fraction2.scale(1.5)\n",
    "\n",
    "        # 开始表演\n",
    "        self.play(Transform(fraction1, fraction2)) # 分式1简化为分式2\n",
    "        self.wait(1)\n",
    "        self.play(fraction1.animate.next_to(fraction_text, LEFT, buff=1)) # 公式向左移，文本出现\n",
    "        self.play(Write(fraction_text))\n",
    "        self.wait(2)\n",
    "        self.play(FadeOut(fraction1), FadeOut(fraction_text)) # 退场\n"
   ]
  }
 ],
 "metadata": {
  "kernelspec": {
   "display_name": "Python 3 (ipykernel)",
   "language": "python",
   "name": "python3"
  },
  "language_info": {
   "codemirror_mode": {
    "name": "ipython",
    "version": 3
   },
   "file_extension": ".py",
   "mimetype": "text/x-python",
   "name": "python",
   "nbconvert_exporter": "python",
   "pygments_lexer": "ipython3",
   "version": "3.11.9"
  }
 },
 "nbformat": 4,
 "nbformat_minor": 5
}
